{
 "cells": [
  {
   "cell_type": "code",
   "execution_count": 1,
   "metadata": {},
   "outputs": [
    {
     "name": "stdout",
     "output_type": "stream",
     "text": [
      "✅ Se generaron 8772 muestras para entrenamiento y 2193 para validación.\n"
     ]
    }
   ],
   "source": [
    "import os\n",
    "import random\n",
    "\n",
    "# Ruta del archivo original\n",
    "metadata_path = \"E:/VITS2_TEST/AMA_DATA_SET_V2/metadata.csv\"\n",
    "train_output = \"E:/VITS2_TEST/vits2_pytorch/filelists/ama_audio_text_train_filelist.txt\"\n",
    "val_output = \"E:/VITS2_TEST/vits2_pytorch/filelists/ama_audio_text_val_filelist.txt\"\n",
    "\n",
    "# Fracción para validación (20%)\n",
    "VAL_SPLIT = 0.2\n",
    "\n",
    "# Leer todas las líneas del metadata.csv\n",
    "with open(metadata_path, \"r\", encoding=\"utf-8\") as f:\n",
    "    lines = f.readlines()\n",
    "\n",
    "# Mezclar aleatoriamente las líneas\n",
    "random.shuffle(lines)\n",
    "\n",
    "# Calcular el número de muestras para validación\n",
    "num_val = int(len(lines) * VAL_SPLIT)\n",
    "\n",
    "# Separar en entrenamiento y validación\n",
    "val_lines = lines[:num_val]\n",
    "train_lines = lines[num_val:]\n",
    "\n",
    "# Guardar los archivos en formato TXT\n",
    "with open(train_output, \"w\", encoding=\"utf-8\") as f:\n",
    "    f.writelines(train_lines)\n",
    "\n",
    "with open(val_output, \"w\", encoding=\"utf-8\") as f:\n",
    "    f.writelines(val_lines)\n",
    "\n",
    "print(f\"✅ Se generaron {len(train_lines)} muestras para entrenamiento y {len(val_lines)} para validación.\")"
   ]
  },
  {
   "cell_type": "code",
   "execution_count": 2,
   "metadata": {},
   "outputs": [
    {
     "name": "stdout",
     "output_type": "stream",
     "text": [
      "✅ Archivo modificado guardado en: filelists/ama_audio_text_train_filelist.txt.cleaned\n"
     ]
    }
   ],
   "source": [
    "input_file = \"filelists/ama_audio_text_train_filelist.txt.cleaned\"  # Archivo original\n",
    "output_file = \"filelists/ama_audio_text_train_filelist.txt.cleaned\"  # Nuevo archivo con `DUMMY3/`\n",
    "\n",
    "with open(input_file, \"r\", encoding=\"utf-8\") as f:\n",
    "    lines = f.readlines()\n",
    "\n",
    "with open(output_file, \"w\", encoding=\"utf-8\") as f:\n",
    "    for line in lines:\n",
    "        parts = line.strip().split(\"|\")  # Separar nombre del archivo y texto\n",
    "        if len(parts) == 2:\n",
    "            new_line = f\"DUMMY3/{parts[0]}|{parts[1]}\\n\"  # Agregar `DUMMY3/` al nombre del archivo\n",
    "            f.write(new_line)\n",
    "\n",
    "print(f\"✅ Archivo modificado guardado en: {output_file}\")\n"
   ]
  },
  {
   "cell_type": "code",
   "execution_count": 2,
   "metadata": {},
   "outputs": [
    {
     "name": "stdout",
     "output_type": "stream",
     "text": [
      "✅ Archivo corregido guardado en: filelists/ama_audio_text_train_filelist.txt.cleaned\n"
     ]
    }
   ],
   "source": [
    "input_file = \"filelists/ama_audio_text_train_filelist.txt.cleaned\"  # Archivo original\n",
    "output_file = \"filelists/ama_audio_text_train_filelist.txt.cleaned\"  # Nuevo archivo corregido\n",
    "\n",
    "with open(input_file, \"r\", encoding=\"utf-8\") as f:\n",
    "    lines = f.readlines()\n",
    "\n",
    "with open(output_file, \"w\", encoding=\"utf-8\") as f:\n",
    "    for line in lines:\n",
    "        parts = line.strip().split(\"|\")  # Separar nombre del archivo y texto\n",
    "        if len(parts) == 2 and not parts[0].endswith(\".wav\"):\n",
    "            parts[0] += \".wav\"  # Agregar .wav si no lo tiene\n",
    "        f.write(\"|\".join(parts) + \"\\n\")\n",
    "\n",
    "print(f\"✅ Archivo corregido guardado en: {output_file}\")\n"
   ]
  },
  {
   "cell_type": "code",
   "execution_count": 4,
   "metadata": {},
   "outputs": [
    {
     "name": "stdout",
     "output_type": "stream",
     "text": [
      "✅ Archivo corregido guardado en: filelists/ama_audio_text_val_filelist.txt.cleaned\n"
     ]
    }
   ],
   "source": [
    "input_file = \"filelists/ama_audio_text_val_filelist.txt.cleaned\"\n",
    "output_file = \"filelists/ama_audio_text_val_filelist.txt.cleaned\"\n",
    "\n",
    "with open(input_file, \"r\", encoding=\"utf-8-sig\") as f:  # `utf-8-sig` elimina el BOM\n",
    "    lines = f.readlines()\n",
    "\n",
    "with open(output_file, \"w\", encoding=\"utf-8\") as f:  # Guarda sin BOM\n",
    "    for line in lines:\n",
    "        parts = line.strip().split(\"|\")\n",
    "        if len(parts) == 2:\n",
    "            parts[0] = parts[0].replace(\"\\ufeff\", \"\")  # Elimina BOM si está presente\n",
    "            if not parts[0].endswith(\".wav\"):\n",
    "                parts[0] += \".wav\"  # Asegurar que termine en `.wav`\n",
    "        f.write(\"|\".join(parts) + \"\\n\")\n",
    "\n",
    "print(f\"✅ Archivo corregido guardado en: {output_file}\")\n"
   ]
  },
  {
   "cell_type": "code",
   "execution_count": 1,
   "metadata": {},
   "outputs": [],
   "source": [
    "import os\n",
    "import librosa\n",
    "\n",
    "data_dir = \"E:/VITS2_TEST/vits2_pytorch/DUMMY3\"  # Cambia esta ruta si es necesario\n",
    "\n",
    "for file in os.listdir(data_dir):\n",
    "    if file.endswith(\".wav\"):\n",
    "        filepath = os.path.join(data_dir, file)\n",
    "        y, sr = librosa.load(filepath, sr=None)\n",
    "        if sr != 22050:\n",
    "            print(f\"{file}: {sr} Hz\")\n"
   ]
  }
 ],
 "metadata": {
  "kernelspec": {
   "display_name": "vits2_env",
   "language": "python",
   "name": "python3"
  },
  "language_info": {
   "codemirror_mode": {
    "name": "ipython",
    "version": 3
   },
   "file_extension": ".py",
   "mimetype": "text/x-python",
   "name": "python",
   "nbconvert_exporter": "python",
   "pygments_lexer": "ipython3",
   "version": "3.10.9"
  }
 },
 "nbformat": 4,
 "nbformat_minor": 2
}
